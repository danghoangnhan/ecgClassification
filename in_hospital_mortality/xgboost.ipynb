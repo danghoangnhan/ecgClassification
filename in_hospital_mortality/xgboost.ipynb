{
 "cells": [
  {
   "cell_type": "code",
   "execution_count": 2,
   "metadata": {},
   "outputs": [
    {
     "name": "stdout",
     "output_type": "stream",
     "text": [
      "Traceback (most recent call last):\n",
      "  File \"/home/danieldu/tf_serving/in_hospital_mortality/xgboost/main.py\", line 4, in <module>\n",
      "    from utils.readers import InHospitalMortalityReader\n",
      "ModuleNotFoundError: No module named 'utils'\n"
     ]
    }
   ],
   "source": [
    "! python xgboost/main.py  --output_dir in_hospital_mortality/xgboost/"
   ]
  },
  {
   "cell_type": "code",
   "execution_count": null,
   "metadata": {},
   "outputs": [],
   "source": []
  }
 ],
 "metadata": {
  "kernelspec": {
   "display_name": "Python 3",
   "language": "python",
   "name": "python3"
  },
  "language_info": {
   "codemirror_mode": {
    "name": "ipython",
    "version": 3
   },
   "file_extension": ".py",
   "mimetype": "text/x-python",
   "name": "python",
   "nbconvert_exporter": "python",
   "pygments_lexer": "ipython3",
   "version": "3.12.0"
  }
 },
 "nbformat": 4,
 "nbformat_minor": 2
}
